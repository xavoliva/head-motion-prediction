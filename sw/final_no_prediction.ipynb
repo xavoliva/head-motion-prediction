{
 "cells": [
  {
   "cell_type": "markdown",
   "metadata": {},
   "source": [
    "## Sequential LSTM and Convolution\n",
    "## Data: Head position"
   ]
  },
  {
   "cell_type": "code",
   "execution_count": 6,
   "metadata": {
    "scrolled": true
   },
   "outputs": [],
   "source": [
    "# Create your first MLP in Keras\n",
    "import os, sys\n",
    "import numpy as np\n",
    "import time\n",
    "from scipy import interpolate\n",
    "from utils.convert_coord import equirect_to_cart, cart_to_equirect\n",
    "from utils.data_generator_seq2seq import data_generator_head_seq2seq_decoder_zeros\n",
    "import matplotlib.pyplot as plt\n",
    "%matplotlib inline\n",
    "import random as rn\n",
    "\n",
    "dir_path = os.getcwd()"
   ]
  },
  {
   "cell_type": "code",
   "execution_count": 1,
   "metadata": {},
   "outputs": [
    {
     "ename": "NameError",
     "evalue": "name 'np' is not defined",
     "output_type": "error",
     "traceback": [
      "\u001b[0;31m---------------------------------------------------------------------------\u001b[0m",
      "\u001b[0;31mNameError\u001b[0m                                 Traceback (most recent call last)",
      "\u001b[0;32m<ipython-input-1-692771739362>\u001b[0m in \u001b[0;36m<module>\u001b[0;34m\u001b[0m\n\u001b[1;32m      8\u001b[0m \u001b[0mn_delay\u001b[0m \u001b[0;34m=\u001b[0m \u001b[0mint\u001b[0m\u001b[0;34m(\u001b[0m\u001b[0mround\u001b[0m\u001b[0;34m(\u001b[0m\u001b[0mstep_delay\u001b[0m \u001b[0;34m/\u001b[0m \u001b[0mtime_step\u001b[0m\u001b[0;34m)\u001b[0m\u001b[0;34m)\u001b[0m\u001b[0;34m\u001b[0m\u001b[0;34m\u001b[0m\u001b[0m\n\u001b[1;32m      9\u001b[0m \u001b[0mdelays_list\u001b[0m \u001b[0;34m=\u001b[0m \u001b[0mlist\u001b[0m\u001b[0;34m(\u001b[0m\u001b[0mrange\u001b[0m\u001b[0;34m(\u001b[0m\u001b[0;36m100\u001b[0m\u001b[0;34m,\u001b[0m \u001b[0;36m1000\u001b[0m\u001b[0;34m+\u001b[0m\u001b[0;36m1\u001b[0m\u001b[0;34m,\u001b[0m \u001b[0mstep_delay\u001b[0m\u001b[0;34m)\u001b[0m\u001b[0;34m)\u001b[0m\u001b[0;34m\u001b[0m\u001b[0;34m\u001b[0m\u001b[0m\n\u001b[0;32m---> 10\u001b[0;31m \u001b[0mn_max_delay\u001b[0m \u001b[0;34m=\u001b[0m \u001b[0mint\u001b[0m\u001b[0;34m(\u001b[0m\u001b[0mround\u001b[0m\u001b[0;34m(\u001b[0m\u001b[0mnp\u001b[0m\u001b[0;34m.\u001b[0m\u001b[0mmax\u001b[0m\u001b[0;34m(\u001b[0m\u001b[0mdelays_list\u001b[0m\u001b[0;34m)\u001b[0m \u001b[0;34m/\u001b[0m \u001b[0mtime_step\u001b[0m\u001b[0;34m)\u001b[0m\u001b[0;34m)\u001b[0m\u001b[0;34m\u001b[0m\u001b[0;34m\u001b[0m\u001b[0m\n\u001b[0m\u001b[1;32m     11\u001b[0m \u001b[0;34m\u001b[0m\u001b[0m\n\u001b[1;32m     12\u001b[0m \u001b[0mlen_delay\u001b[0m \u001b[0;34m=\u001b[0m \u001b[0mlen\u001b[0m\u001b[0;34m(\u001b[0m\u001b[0mdelays_list\u001b[0m\u001b[0;34m)\u001b[0m\u001b[0;34m\u001b[0m\u001b[0;34m\u001b[0m\u001b[0m\n",
      "\u001b[0;31mNameError\u001b[0m: name 'np' is not defined"
     ]
    }
   ],
   "source": [
    "experiment_name = 'final_no_prediction'\n",
    "\n",
    "time_step = 10 # 10 ms\n",
    "lookback = 250 # 250 ms\n",
    "n_lookback = int(round(lookback / time_step))\n",
    "\n",
    "step_delay = 100\n",
    "n_delay = int(round(step_delay / time_step))\n",
    "delays_list = list(range(100, 1000+1, step_delay))\n",
    "n_max_delay = int(round(np.max(delays_list) / time_step))\n",
    "\n",
    "len_delay = len(delays_list)\n",
    "\n",
    "# HARD CODED MAXIMUM DIFFERENCES\n",
    "MAX_DIFF = np.array([1.95763439 0.06364631 1.99985595])"
   ]
  },
  {
   "cell_type": "code",
   "execution_count": 8,
   "metadata": {},
   "outputs": [
    {
     "name": "stdout",
     "output_type": "stream",
     "text": [
      "['013_13_times_square_static.npy', '025_07_factory_robots_static.npy', '002_01_art_gallery_static.npy', '002_02_theatre_scene_static.npy', '002_03_lions_static_cuts.npy', '002_04_copenhagen_harbour_static_cuts.npy', '002_07_factory_robots_static.npy', '002_09_elephants_static.npy', '002_12_gym_workout_static.npy', '002_13_times_square_static.npy', '002_14_new_orleans_drive_motion.npy', '002_16_interview_static.npy', '002_17_weather_forecast_static.npy', '002_18_bomb_trapped_static.npy', '002_20_car_fix_static.npy', '002_23_dog_food_factory_motion.npy', '003_01_art_gallery_static.npy', '003_02_theatre_scene_static.npy', '003_03_lions_static_cuts.npy', '003_04_copenhagen_harbour_static_cuts.npy', '003_05_florida_yacht_motion.npy', '003_07_factory_robots_static.npy', '003_08_madagascar_cuts.npy', '003_09_elephants_static.npy', '003_11_lohdi_garden_india_cuts.npy', '003_12_gym_workout_static.npy', '003_13_times_square_static.npy', '003_14_new_orleans_drive_motion.npy', '003_18_bomb_trapped_static.npy', '003_21_operation_room_static.npy', '003_23_dog_food_factory_motion.npy', '004_01_art_gallery_static.npy', '004_02_theatre_scene_static.npy', '004_03_lions_static_cuts.npy', '004_04_copenhagen_harbour_static_cuts.npy', '004_05_florida_yacht_motion.npy', '004_07_factory_robots_static.npy', '004_08_madagascar_cuts.npy', '004_09_elephants_static.npy', '004_11_lohdi_garden_india_cuts.npy', '004_12_gym_workout_static.npy', '004_14_new_orleans_drive_motion.npy', '004_16_interview_static.npy', '004_17_weather_forecast_static.npy', '004_18_bomb_trapped_static.npy', '004_20_car_fix_static.npy', '004_21_operation_room_static.npy', '004_23_dog_food_factory_motion.npy', '005_01_art_gallery_static.npy', '005_02_theatre_scene_static.npy', '005_03_lions_static_cuts.npy', '005_04_copenhagen_harbour_static_cuts.npy', '005_05_florida_yacht_motion.npy', '005_07_factory_robots_static.npy', '002_21_operation_room_static.npy', '003_16_interview_static.npy', '004_13_times_square_static.npy', '005_08_madagascar_cuts.npy', '006_03_lions_static_cuts.npy', '006_21_operation_room_static.npy', '007_17_weather_forecast_static.npy', '008_12_gym_workout_static.npy', '009_08_madagascar_cuts.npy', '010_04_copenhagen_harbour_static_cuts.npy', '011_01_art_gallery_static.npy', '011_18_bomb_trapped_static.npy', '012_18_bomb_trapped_static.npy', '005_09_elephants_static.npy', '005_11_lohdi_garden_india_cuts.npy', '005_12_gym_workout_static.npy', '005_13_times_square_static.npy', '005_14_new_orleans_drive_motion.npy', '005_16_interview_static.npy', '005_17_weather_forecast_static.npy', '005_18_bomb_trapped_static.npy', '005_20_car_fix_static.npy', '005_21_operation_room_static.npy', '005_23_dog_food_factory_motion.npy', '006_01_art_gallery_static.npy', '006_02_theatre_scene_static.npy', '006_04_copenhagen_harbour_static_cuts.npy', '006_05_florida_yacht_motion.npy', '006_07_factory_robots_static.npy', '006_08_madagascar_cuts.npy', '006_09_elephants_static.npy', '006_11_lohdi_garden_india_cuts.npy', '006_12_gym_workout_static.npy', '006_13_times_square_static.npy', '006_14_new_orleans_drive_motion.npy', '006_16_interview_static.npy', '006_17_weather_forecast_static.npy', '006_18_bomb_trapped_static.npy', '006_20_car_fix_static.npy', '006_23_dog_food_factory_motion.npy', '007_01_art_gallery_static.npy', '007_02_theatre_scene_static.npy', '007_03_lions_static_cuts.npy', '007_04_copenhagen_harbour_static_cuts.npy', '007_05_florida_yacht_motion.npy', '007_07_factory_robots_static.npy', '007_08_madagascar_cuts.npy', '007_09_elephants_static.npy', '007_11_lohdi_garden_india_cuts.npy', '007_12_gym_workout_static.npy', '007_14_new_orleans_drive_motion.npy', '007_16_interview_static.npy', '007_18_bomb_trapped_static.npy', '007_20_car_fix_static.npy', '007_21_operation_room_static.npy', '007_23_dog_food_factory_motion.npy', '008_01_art_gallery_static.npy', '008_02_theatre_scene_static.npy', '008_03_lions_static_cuts.npy', '008_04_copenhagen_harbour_static_cuts.npy', '008_05_florida_yacht_motion.npy', '008_07_factory_robots_static.npy', '008_08_madagascar_cuts.npy', '008_09_elephants_static.npy', '008_11_lohdi_garden_india_cuts.npy', '008_13_times_square_static.npy', '008_14_new_orleans_drive_motion.npy', '008_16_interview_static.npy', '008_17_weather_forecast_static.npy', '008_20_car_fix_static.npy', '008_21_operation_room_static.npy', '008_23_dog_food_factory_motion.npy', '009_01_art_gallery_static.npy', '009_02_theatre_scene_static.npy', '009_03_lions_static_cuts.npy', '009_04_copenhagen_harbour_static_cuts.npy', '009_05_florida_yacht_motion.npy', '009_07_factory_robots_static.npy', '009_09_elephants_static.npy', '009_11_lohdi_garden_india_cuts.npy', '009_12_gym_workout_static.npy', '009_13_times_square_static.npy', '009_14_new_orleans_drive_motion.npy', '009_16_interview_static.npy', '009_17_weather_forecast_static.npy', '009_18_bomb_trapped_static.npy', '009_20_car_fix_static.npy', '009_21_operation_room_static.npy', '009_23_dog_food_factory_motion.npy', '010_01_art_gallery_static.npy', '010_03_lions_static_cuts.npy', '010_05_florida_yacht_motion.npy', '010_07_factory_robots_static.npy', '010_09_elephants_static.npy', '010_11_lohdi_garden_india_cuts.npy', '010_12_gym_workout_static.npy', '010_13_times_square_static.npy', '010_14_new_orleans_drive_motion.npy', '010_16_interview_static.npy', '010_17_weather_forecast_static.npy', '010_18_bomb_trapped_static.npy', '010_20_car_fix_static.npy', '010_21_operation_room_static.npy', '010_23_dog_food_factory_motion.npy', '011_02_theatre_scene_static.npy', '011_03_lions_static_cuts.npy', '011_04_copenhagen_harbour_static_cuts.npy', '011_05_florida_yacht_motion.npy', '011_07_factory_robots_static.npy', '011_08_madagascar_cuts.npy', '011_09_elephants_static.npy', '011_11_lohdi_garden_india_cuts.npy', '011_12_gym_workout_static.npy', '011_13_times_square_static.npy', '011_14_new_orleans_drive_motion.npy', '011_16_interview_static.npy', '011_17_weather_forecast_static.npy', '011_20_car_fix_static.npy', '011_21_operation_room_static.npy', '011_23_dog_food_factory_motion.npy', '012_01_art_gallery_static.npy', '012_02_theatre_scene_static.npy', '012_03_lions_static_cuts.npy', '012_04_copenhagen_harbour_static_cuts.npy', '012_05_florida_yacht_motion.npy', '012_08_madagascar_cuts.npy', '012_13_times_square_static.npy', '012_14_new_orleans_drive_motion.npy', '012_16_interview_static.npy', '012_17_weather_forecast_static.npy', '012_20_car_fix_static.npy', '012_21_operation_room_static.npy', '012_23_dog_food_factory_motion.npy', '013_01_art_gallery_static.npy', '013_02_theatre_scene_static.npy', '013_03_lions_static_cuts.npy', '013_04_copenhagen_harbour_static_cuts.npy', '013_05_florida_yacht_motion.npy', '013_07_factory_robots_static.npy', '013_08_madagascar_cuts.npy', '013_09_elephants_static.npy', '013_11_lohdi_garden_india_cuts.npy', '013_12_gym_workout_static.npy', '013_14_new_orleans_drive_motion.npy', '013_16_interview_static.npy', '013_17_weather_forecast_static.npy', '013_18_bomb_trapped_static.npy', '013_20_car_fix_static.npy', '013_21_operation_room_static.npy', '013_23_dog_food_factory_motion.npy', '014_01_art_gallery_static.npy', '014_02_theatre_scene_static.npy', '014_03_lions_static_cuts.npy', '014_04_copenhagen_harbour_static_cuts.npy', '014_05_florida_yacht_motion.npy', '014_07_factory_robots_static.npy', '014_09_elephants_static.npy', '014_11_lohdi_garden_india_cuts.npy', '014_13_times_square_static.npy', '014_14_new_orleans_drive_motion.npy', '014_16_interview_static.npy', '014_17_weather_forecast_static.npy', '014_18_bomb_trapped_static.npy', '014_21_operation_room_static.npy', '014_23_dog_food_factory_motion.npy', '015_01_art_gallery_static.npy', '015_02_theatre_scene_static.npy', '015_03_lions_static_cuts.npy', '015_04_copenhagen_harbour_static_cuts.npy', '015_07_factory_robots_static.npy', '015_09_elephants_static.npy', '015_12_gym_workout_static.npy', '015_13_times_square_static.npy', '015_18_bomb_trapped_static.npy', '015_20_car_fix_static.npy', '015_21_operation_room_static.npy', '016_01_art_gallery_static.npy', '016_03_lions_static_cuts.npy', '016_04_copenhagen_harbour_static_cuts.npy', '016_05_florida_yacht_motion.npy', '016_07_factory_robots_static.npy', '016_08_madagascar_cuts.npy', '016_11_lohdi_garden_india_cuts.npy', '016_12_gym_workout_static.npy', '016_13_times_square_static.npy', '016_14_new_orleans_drive_motion.npy', '016_16_interview_static.npy', '016_17_weather_forecast_static.npy', '016_18_bomb_trapped_static.npy', '016_20_car_fix_static.npy', '016_21_operation_room_static.npy', '016_23_dog_food_factory_motion.npy', '017_01_art_gallery_static.npy', '017_02_theatre_scene_static.npy', '017_03_lions_static_cuts.npy', '017_05_florida_yacht_motion.npy', '017_07_factory_robots_static.npy', '017_08_madagascar_cuts.npy', '017_09_elephants_static.npy', '017_11_lohdi_garden_india_cuts.npy', '017_12_gym_workout_static.npy', '017_13_times_square_static.npy', '017_14_new_orleans_drive_motion.npy', '017_16_interview_static.npy', '017_17_weather_forecast_static.npy', '017_18_bomb_trapped_static.npy', '017_20_car_fix_static.npy', '017_21_operation_room_static.npy', '018_01_art_gallery_static.npy', '018_02_theatre_scene_static.npy', '018_03_lions_static_cuts.npy', '018_05_florida_yacht_motion.npy', '018_08_madagascar_cuts.npy', '018_09_elephants_static.npy', '018_11_lohdi_garden_india_cuts.npy', '018_12_gym_workout_static.npy', '018_13_times_square_static.npy', '018_14_new_orleans_drive_motion.npy', '018_16_interview_static.npy', '018_17_weather_forecast_static.npy', '018_18_bomb_trapped_static.npy', '018_21_operation_room_static.npy', '018_23_dog_food_factory_motion.npy', '019_01_art_gallery_static.npy', '019_02_theatre_scene_static.npy', '019_03_lions_static_cuts.npy', '019_04_copenhagen_harbour_static_cuts.npy', '019_05_florida_yacht_motion.npy', '019_07_factory_robots_static.npy', '019_08_madagascar_cuts.npy', '019_09_elephants_static.npy', '019_11_lohdi_garden_india_cuts.npy', '019_13_times_square_static.npy', '019_14_new_orleans_drive_motion.npy', '019_17_weather_forecast_static.npy', '019_18_bomb_trapped_static.npy', '019_20_car_fix_static.npy', '019_21_operation_room_static.npy', '019_23_dog_food_factory_motion.npy', '020_01_art_gallery_static.npy', '020_02_theatre_scene_static.npy', '020_03_lions_static_cuts.npy', '020_04_copenhagen_harbour_static_cuts.npy', '020_05_florida_yacht_motion.npy', '020_07_factory_robots_static.npy', '020_08_madagascar_cuts.npy', '020_09_elephants_static.npy', '020_12_gym_workout_static.npy', '020_13_times_square_static.npy', '020_14_new_orleans_drive_motion.npy', '020_16_interview_static.npy', '020_17_weather_forecast_static.npy', '020_18_bomb_trapped_static.npy', '020_20_car_fix_static.npy', '020_21_operation_room_static.npy', '020_23_dog_food_factory_motion.npy', '021_01_art_gallery_static.npy', '021_02_theatre_scene_static.npy', '021_03_lions_static_cuts.npy', '021_04_copenhagen_harbour_static_cuts.npy', '021_07_factory_robots_static.npy', '021_08_madagascar_cuts.npy', '021_09_elephants_static.npy', '021_11_lohdi_garden_india_cuts.npy', '021_12_gym_workout_static.npy', '021_13_times_square_static.npy', '021_14_new_orleans_drive_motion.npy', '021_16_interview_static.npy', '021_17_weather_forecast_static.npy', '021_18_bomb_trapped_static.npy', '021_20_car_fix_static.npy', '021_21_operation_room_static.npy', '021_23_dog_food_factory_motion.npy', '022_02_theatre_scene_static.npy', '022_03_lions_static_cuts.npy', '022_04_copenhagen_harbour_static_cuts.npy', '022_05_florida_yacht_motion.npy', '022_07_factory_robots_static.npy', '022_08_madagascar_cuts.npy', '022_09_elephants_static.npy', '022_11_lohdi_garden_india_cuts.npy', '022_12_gym_workout_static.npy', '022_13_times_square_static.npy', '022_14_new_orleans_drive_motion.npy', '022_16_interview_static.npy', '022_18_bomb_trapped_static.npy', '022_21_operation_room_static.npy', '022_23_dog_food_factory_motion.npy', '023_01_art_gallery_static.npy', '023_02_theatre_scene_static.npy', '023_03_lions_static_cuts.npy', '023_04_copenhagen_harbour_static_cuts.npy', '023_05_florida_yacht_motion.npy', '023_07_factory_robots_static.npy', '023_08_madagascar_cuts.npy', '023_09_elephants_static.npy', '023_11_lohdi_garden_india_cuts.npy', '023_12_gym_workout_static.npy', '023_13_times_square_static.npy', '023_16_interview_static.npy', '023_17_weather_forecast_static.npy', '023_18_bomb_trapped_static.npy', '023_20_car_fix_static.npy', '023_21_operation_room_static.npy', '023_23_dog_food_factory_motion.npy', '024_01_art_gallery_static.npy', '024_02_theatre_scene_static.npy', '024_03_lions_static_cuts.npy', '024_04_copenhagen_harbour_static_cuts.npy', '024_05_florida_yacht_motion.npy', '024_07_factory_robots_static.npy', '024_09_elephants_static.npy', '024_12_gym_workout_static.npy', '024_13_times_square_static.npy', '024_14_new_orleans_drive_motion.npy', '024_16_interview_static.npy', '024_17_weather_forecast_static.npy', '024_18_bomb_trapped_static.npy', '024_21_operation_room_static.npy', '024_23_dog_food_factory_motion.npy', '025_01_art_gallery_static.npy', '025_02_theatre_scene_static.npy', '025_03_lions_static_cuts.npy', '025_04_copenhagen_harbour_static_cuts.npy', '025_05_florida_yacht_motion.npy', '014_08_madagascar_cuts.npy', '015_05_florida_yacht_motion.npy', '016_09_elephants_static.npy', '017_04_copenhagen_harbour_static_cuts.npy', '017_23_dog_food_factory_motion.npy', '018_20_car_fix_static.npy', '019_16_interview_static.npy', '020_11_lohdi_garden_india_cuts.npy', '021_05_florida_yacht_motion.npy', '022_01_art_gallery_static.npy', '022_20_car_fix_static.npy', '023_14_new_orleans_drive_motion.npy', '024_11_lohdi_garden_india_cuts.npy', '025_08_madagascar_cuts.npy', '025_09_elephants_static.npy', '025_11_lohdi_garden_india_cuts.npy', '025_12_gym_workout_static.npy', '025_13_times_square_static.npy', '025_14_new_orleans_drive_motion.npy', '025_16_interview_static.npy', '025_17_weather_forecast_static.npy', '025_18_bomb_trapped_static.npy', '025_20_car_fix_static.npy', '025_21_operation_room_static.npy', '025_23_dog_food_factory_motion.npy', '026_01_art_gallery_static.npy', '026_03_lions_static_cuts.npy', '026_04_copenhagen_harbour_static_cuts.npy', '026_05_florida_yacht_motion.npy', '026_07_factory_robots_static.npy', '026_08_madagascar_cuts.npy', '026_09_elephants_static.npy', '026_11_lohdi_garden_india_cuts.npy', '026_12_gym_workout_static.npy', '026_13_times_square_static.npy', '026_14_new_orleans_drive_motion.npy', '026_16_interview_static.npy', '026_17_weather_forecast_static.npy', '026_18_bomb_trapped_static.npy', '026_21_operation_room_static.npy', '026_23_dog_food_factory_motion.npy', '027_01_art_gallery_static.npy', '027_02_theatre_scene_static.npy', '027_03_lions_static_cuts.npy', '027_05_florida_yacht_motion.npy', '027_07_factory_robots_static.npy', '027_08_madagascar_cuts.npy', '027_09_elephants_static.npy', '027_11_lohdi_garden_india_cuts.npy', '027_12_gym_workout_static.npy', '027_13_times_square_static.npy', '027_14_new_orleans_drive_motion.npy', '027_23_dog_food_factory_motion.npy', '028_01_art_gallery_static.npy', '028_02_theatre_scene_static.npy', '028_03_lions_static_cuts.npy', '028_04_copenhagen_harbour_static_cuts.npy', '028_05_florida_yacht_motion.npy', '028_07_factory_robots_static.npy', '028_08_madagascar_cuts.npy', '028_09_elephants_static.npy', '028_11_lohdi_garden_india_cuts.npy', '028_12_gym_workout_static.npy', '028_13_times_square_static.npy', '028_14_new_orleans_drive_motion.npy', '028_17_weather_forecast_static.npy', '028_18_bomb_trapped_static.npy', '028_20_car_fix_static.npy', '028_21_operation_room_static.npy', '028_23_dog_food_factory_motion.npy', '029_01_art_gallery_static.npy', '029_02_theatre_scene_static.npy', '029_03_lions_static_cuts.npy', '029_04_copenhagen_harbour_static_cuts.npy', '029_05_florida_yacht_motion.npy', '029_07_factory_robots_static.npy', '029_08_madagascar_cuts.npy', '029_09_elephants_static.npy', '029_12_gym_workout_static.npy', '029_13_times_square_static.npy', '029_14_new_orleans_drive_motion.npy', '029_16_interview_static.npy', '029_17_weather_forecast_static.npy', '029_18_bomb_trapped_static.npy', '029_20_car_fix_static.npy', '029_21_operation_room_static.npy', '029_23_dog_food_factory_motion.npy', '030_01_art_gallery_static.npy', '030_02_theatre_scene_static.npy', '030_03_lions_static_cuts.npy', '030_04_copenhagen_harbour_static_cuts.npy', '030_07_factory_robots_static.npy', '030_08_madagascar_cuts.npy', '030_09_elephants_static.npy', '030_11_lohdi_garden_india_cuts.npy', '030_12_gym_workout_static.npy', '030_13_times_square_static.npy', '030_14_new_orleans_drive_motion.npy', '030_16_interview_static.npy', '030_17_weather_forecast_static.npy', '030_18_bomb_trapped_static.npy', '030_20_car_fix_static.npy', '030_21_operation_room_static.npy', '030_23_dog_food_factory_motion.npy', '031_02_theatre_scene_static.npy', '031_03_lions_static_cuts.npy', '031_04_copenhagen_harbour_static_cuts.npy', '031_05_florida_yacht_motion.npy', '031_07_factory_robots_static.npy', '031_08_madagascar_cuts.npy', '031_09_elephants_static.npy', '031_11_lohdi_garden_india_cuts.npy', '031_12_gym_workout_static.npy', '031_13_times_square_static.npy', '031_14_new_orleans_drive_motion.npy', '031_16_interview_static.npy', '031_17_weather_forecast_static.npy', '031_20_car_fix_static.npy', '031_21_operation_room_static.npy', '031_23_dog_food_factory_motion.npy', '032_01_art_gallery_static.npy', '032_02_theatre_scene_static.npy', '032_03_lions_static_cuts.npy', '032_04_copenhagen_harbour_static_cuts.npy', '032_05_florida_yacht_motion.npy', '032_07_factory_robots_static.npy', '032_08_madagascar_cuts.npy', '032_09_elephants_static.npy', '032_11_lohdi_garden_india_cuts.npy', '032_12_gym_workout_static.npy', '032_14_new_orleans_drive_motion.npy', '032_16_interview_static.npy', '032_17_weather_forecast_static.npy', '032_18_bomb_trapped_static.npy', '032_20_car_fix_static.npy', '032_21_operation_room_static.npy', '032_23_dog_food_factory_motion.npy', '033_01_art_gallery_static.npy', '033_02_theatre_scene_static.npy', '033_03_lions_static_cuts.npy', '033_05_florida_yacht_motion.npy', '033_08_madagascar_cuts.npy', '033_09_elephants_static.npy', '033_12_gym_workout_static.npy', '033_13_times_square_static.npy', '033_14_new_orleans_drive_motion.npy', '033_16_interview_static.npy', '033_17_weather_forecast_static.npy', '033_18_bomb_trapped_static.npy', '033_20_car_fix_static.npy', '033_21_operation_room_static.npy', '033_23_dog_food_factory_motion.npy', '034_01_art_gallery_static.npy', '034_02_theatre_scene_static.npy', '034_03_lions_static_cuts.npy', '034_04_copenhagen_harbour_static_cuts.npy', '034_07_factory_robots_static.npy', '034_08_madagascar_cuts.npy', '034_09_elephants_static.npy', '034_11_lohdi_garden_india_cuts.npy', '034_12_gym_workout_static.npy', '034_13_times_square_static.npy', '034_14_new_orleans_drive_motion.npy', '034_16_interview_static.npy', '034_17_weather_forecast_static.npy', '034_18_bomb_trapped_static.npy', '034_20_car_fix_static.npy', '034_21_operation_room_static.npy', '034_23_dog_food_factory_motion.npy', '035_02_theatre_scene_static.npy', '035_03_lions_static_cuts.npy', '035_04_copenhagen_harbour_static_cuts.npy', '035_05_florida_yacht_motion.npy', '035_07_factory_robots_static.npy', '035_08_madagascar_cuts.npy', '035_11_lohdi_garden_india_cuts.npy', '035_12_gym_workout_static.npy', '035_13_times_square_static.npy', '035_14_new_orleans_drive_motion.npy', '035_16_interview_static.npy', '035_17_weather_forecast_static.npy', '035_20_car_fix_static.npy', '035_23_dog_food_factory_motion.npy', '036_01_art_gallery_static.npy', '036_02_theatre_scene_static.npy', '036_03_lions_static_cuts.npy', '036_04_copenhagen_harbour_static_cuts.npy', '036_05_florida_yacht_motion.npy', '036_07_factory_robots_static.npy', '036_08_madagascar_cuts.npy', '036_11_lohdi_garden_india_cuts.npy', '036_12_gym_workout_static.npy', '036_13_times_square_static.npy', '036_14_new_orleans_drive_motion.npy', '036_17_weather_forecast_static.npy', '026_02_theatre_scene_static.npy', '026_20_car_fix_static.npy', '027_18_bomb_trapped_static.npy', '028_16_interview_static.npy', '029_11_lohdi_garden_india_cuts.npy', '030_05_florida_yacht_motion.npy', '031_01_art_gallery_static.npy', '031_18_bomb_trapped_static.npy', '032_13_times_square_static.npy', '033_11_lohdi_garden_india_cuts.npy', '034_05_florida_yacht_motion.npy', '035_01_art_gallery_static.npy', '035_21_operation_room_static.npy', '036_18_bomb_trapped_static.npy', '037_16_interview_static.npy', '038_11_lohdi_garden_india_cuts.npy', '039_07_factory_robots_static.npy', '040_02_theatre_scene_static.npy', '040_20_car_fix_static.npy', '036_20_car_fix_static.npy', '037_01_art_gallery_static.npy', '037_02_theatre_scene_static.npy', '037_03_lions_static_cuts.npy', '037_04_copenhagen_harbour_static_cuts.npy', '037_05_florida_yacht_motion.npy', '037_07_factory_robots_static.npy', '037_08_madagascar_cuts.npy', '037_09_elephants_static.npy', '037_11_lohdi_garden_india_cuts.npy', '037_12_gym_workout_static.npy', '037_13_times_square_static.npy', '037_14_new_orleans_drive_motion.npy', '037_17_weather_forecast_static.npy', '037_18_bomb_trapped_static.npy', '037_20_car_fix_static.npy', '037_21_operation_room_static.npy', '037_23_dog_food_factory_motion.npy', '038_01_art_gallery_static.npy', '038_02_theatre_scene_static.npy', '038_03_lions_static_cuts.npy', '038_04_copenhagen_harbour_static_cuts.npy', '038_05_florida_yacht_motion.npy', '038_07_factory_robots_static.npy', '038_08_madagascar_cuts.npy', '038_09_elephants_static.npy', '038_12_gym_workout_static.npy', '038_13_times_square_static.npy', '038_14_new_orleans_drive_motion.npy', '038_16_interview_static.npy', '038_18_bomb_trapped_static.npy', '038_20_car_fix_static.npy', '038_21_operation_room_static.npy', '038_23_dog_food_factory_motion.npy', '039_01_art_gallery_static.npy', '039_02_theatre_scene_static.npy', '039_03_lions_static_cuts.npy', '039_04_copenhagen_harbour_static_cuts.npy', '039_05_florida_yacht_motion.npy', '039_08_madagascar_cuts.npy', '039_09_elephants_static.npy', '039_11_lohdi_garden_india_cuts.npy', '039_12_gym_workout_static.npy', '039_13_times_square_static.npy', '039_14_new_orleans_drive_motion.npy', '039_16_interview_static.npy', '039_17_weather_forecast_static.npy', '039_18_bomb_trapped_static.npy', '039_20_car_fix_static.npy', '039_21_operation_room_static.npy', '039_23_dog_food_factory_motion.npy', '040_01_art_gallery_static.npy', '040_03_lions_static_cuts.npy', '040_04_copenhagen_harbour_static_cuts.npy', '040_05_florida_yacht_motion.npy', '040_07_factory_robots_static.npy', '040_08_madagascar_cuts.npy', '040_09_elephants_static.npy', '040_11_lohdi_garden_india_cuts.npy', '040_12_gym_workout_static.npy', '040_13_times_square_static.npy', '040_14_new_orleans_drive_motion.npy', '040_16_interview_static.npy', '040_17_weather_forecast_static.npy', '040_18_bomb_trapped_static.npy', '040_21_operation_room_static.npy', '041_01_art_gallery_static.npy', '041_02_theatre_scene_static.npy', '041_03_lions_static_cuts.npy', '041_04_copenhagen_harbour_static_cuts.npy', '041_05_florida_yacht_motion.npy', '041_07_factory_robots_static.npy', '041_08_madagascar_cuts.npy', '041_09_elephants_static.npy', '041_11_lohdi_garden_india_cuts.npy', '041_12_gym_workout_static.npy', '041_13_times_square_static.npy', '041_14_new_orleans_drive_motion.npy', '041_16_interview_static.npy', '041_17_weather_forecast_static.npy', '041_18_bomb_trapped_static.npy', '041_20_car_fix_static.npy', '041_21_operation_room_static.npy', '041_23_dog_food_factory_motion.npy']\n"
     ]
    }
   ],
   "source": [
    "saliency_dir = os.path.join(dir_path, \"fov_images\", \"saliency\")\n",
    "#videos = os.listdir(saliency_dir) \n",
    "#print(videos)\n",
    "\n",
    "path_to_sensor_data_train = os.path.join(dir_path, \"preprocessed_train\")\n",
    "videos = os.listdir(path_to_sensor_data_train)\n",
    "videos = videos\n",
    "print(videos)\n",
    "video_width = 3840"
   ]
  },
  {
   "cell_type": "code",
   "execution_count": 9,
   "metadata": {},
   "outputs": [],
   "source": [
    "use_generator = True\n",
    "if use_generator:\n",
    "    nb_epochs = 150\n",
    "    start = time.time()\n",
    "    \n",
    "    perc_train = 0.8\n",
    "    ind_max_train = int(np.round(len(videos) * perc_train))\n",
    "    file_names_train = videos[:ind_max_train]\n",
    "    file_names_val = videos[ind_max_train:]\n",
    "    #data = np.load(os.path.join(path_to_sensor_data_train, file_name))\n",
    "\n",
    "    train_gen = data_generator_head_seq2seq_decoder_zeros(path_to_sensor_data_train,\n",
    "                                    file_names_train,\n",
    "                                    delays_list,\n",
    "                                    n_max_delay,\n",
    "                                    n_lookback,\n",
    "                                    n_delay)\n",
    "    val_gen = data_generator_head_seq2seq_decoder_zeros(path_to_sensor_data_train,\n",
    "                                  file_names_val,\n",
    "                                  delays_list,\n",
    "                                  n_max_delay,\n",
    "                                  n_lookback,\n",
    "                                  n_delay)"
   ]
  },
  {
   "cell_type": "markdown",
   "metadata": {},
   "source": [
    "## Evaluate performance on validation data to improve model"
   ]
  },
  {
   "cell_type": "code",
   "execution_count": 10,
   "metadata": {},
   "outputs": [
    {
     "name": "stdout",
     "output_type": "stream",
     "text": [
      "Evaluating on validation data...\n",
      "Evaluation Time :  10.564228773117065 s =  0.17607049544652303 min =  0.0029345083236694334 h\n"
     ]
    }
   ],
   "source": [
    "val_gen_pred = data_generator_head_seq2seq_decoder_zeros(path_to_sensor_data_train,\n",
    "                                         file_names_val,\n",
    "                                         delays_list,\n",
    "                                         n_max_delay,\n",
    "                                         n_lookback,\n",
    "                                         n_delay,\n",
    "                                         inference=True\n",
    "                                        )\n",
    "\n",
    "predictions_mae_val = np.zeros((len(file_names_val), 1+len_delay))\n",
    "predictions_rmse_val = np.zeros((len(file_names_val), 1+len_delay))\n",
    "predictions_smape_val = np.zeros((len(file_names_val), 1+len_delay))\n",
    "predictions_mfe_val = np.zeros((len(file_names_val), 1+len_delay))\n",
    "\n",
    "def get_mae(Y1, Y2):\n",
    "    return np.mean(np.absolute(Y1 - Y2))\n",
    "\n",
    "def get_rmse(Y1, Y2):\n",
    "    return np.sqrt(np.mean(np.square(Y1 - Y2)))\n",
    "\n",
    "def get_smape(Y1, Y2):\n",
    "    return 100 * np.mean(np.absolute(Y1 - Y2) / (np.absolute(Y2) + np.absolute(Y1)))\n",
    "\n",
    "def get_mfe(Y_pred, Y_target):\n",
    "    return np.mean(Y_pred - Y_target)\n",
    "\n",
    "\n",
    "start = time.time()\n",
    "print(\"Evaluating on validation data...\")\n",
    "count = 0\n",
    "for [_, decoder_input], Y_val_abs in val_gen_pred:\n",
    "    \n",
    "    Y_pred_diff = np.zeros(shape=(decoder_input[:, 1:].shape))\n",
    "    \n",
    "    # From normalized differences to absolute values\n",
    "    Y_pred = np.zeros(Y_pred_diff.shape)\n",
    "    for i in range(len_delay):\n",
    "        Y_pred[:, i] = Y_val_abs[:,0] + np.sum(Y_pred_diff[:, :i+1], axis=1) * MAX_DIFF\n",
    "    \n",
    "    Y_val_abs = Y_val_abs[:, 1:]\n",
    "    \n",
    "    predictions_mae_val[count, 0] = get_mae(Y_pred, Y_val_abs)\n",
    "    predictions_rmse_val[count, 0] = get_rmse(Y_pred, Y_val_abs)\n",
    "    predictions_smape_val[count, 0] = get_smape(Y_pred, Y_val_abs)\n",
    "    predictions_mfe_val[count, 0] = get_mfe(Y_pred, Y_val_abs)\n",
    "\n",
    "    for ind_delay in range(0,len_delay):\n",
    "        Y_delay_pred = Y_pred[:,ind_delay]\n",
    "        Y_delay_val = Y_val_abs[:,ind_delay]\n",
    "        \n",
    "        predictions_mae_val[count, 1+ind_delay] = get_mae(Y_delay_pred, Y_delay_val)\n",
    "        predictions_rmse_val[count, 1+ind_delay] = get_rmse(Y_delay_pred, Y_delay_val)\n",
    "        predictions_smape_val[count, 1+ind_delay] = get_smape(Y_delay_pred, Y_delay_val)\n",
    "        predictions_mfe_val[count, 1+ind_delay] = get_mfe(Y_delay_pred, Y_delay_val)\n",
    "    \n",
    "    count += 1\n",
    "    if count == len(file_names_val):\n",
    "        break\n",
    "\n",
    "results_mae_val = np.mean(predictions_mae_val, axis=0)\n",
    "results_rmse_val = np.mean(predictions_rmse_val, axis=0)\n",
    "results_smape_val = np.mean(predictions_smape_val, axis=0)\n",
    "results_mfe_val = np.mean(predictions_mfe_val, axis=0)\n",
    "\n",
    "print(\"Evaluation Time : \", time.time() - start, \"s = \", (time.time() - start)/60., \"min = \",\n",
    "      (time.time() - start)/3600., \"h\")"
   ]
  },
  {
   "cell_type": "code",
   "execution_count": 11,
   "metadata": {},
   "outputs": [
    {
     "name": "stdout",
     "output_type": "stream",
     "text": [
      "MAE\n",
      "Average mae: 0.0883222855722285\n",
      "Delay 100 ms: 0.016509149624697964\n",
      "Delay 200 ms: 0.033065189274908056\n",
      "Delay 300 ms: 0.04966718208027939\n",
      "Delay 400 ms: 0.06629458014891247\n",
      "Delay 500 ms: 0.08254070288365889\n",
      "Delay 600 ms: 0.09820802567154684\n",
      "Delay 700 ms: 0.11325895386826813\n",
      "Delay 800 ms: 0.1276668558428336\n",
      "Delay 900 ms: 0.1414343821628201\n",
      "Delay 1000 ms: 0.15457783416435952\n",
      "\n",
      "RMSE\n",
      "Average rmse: 0.17336396106494723\n",
      "Delay 100 ms: 0.03446199356028345\n",
      "Delay 200 ms: 0.06616322491965125\n",
      "Delay 300 ms: 0.09594707312662554\n",
      "Delay 400 ms: 0.12401259924538277\n",
      "Delay 500 ms: 0.15055455993647934\n",
      "Delay 600 ms: 0.17564521443068223\n",
      "Delay 700 ms: 0.19933499412140487\n",
      "Delay 800 ms: 0.22167685440626236\n",
      "Delay 900 ms: 0.2427494513806245\n",
      "Delay 1000 ms: 0.2626184295333281\n",
      "\n",
      "SMAPE\n",
      "Average smape: 18.204353478944896\n",
      "Delay 100 ms: 5.3646482027908995\n",
      "Delay 200 ms: 9.154650921240101\n",
      "Delay 300 ms: 12.45395106605214\n",
      "Delay 400 ms: 15.462508795640211\n",
      "Delay 500 ms: 18.11305176426605\n",
      "Delay 600 ms: 20.461279230449396\n",
      "Delay 700 ms: 22.568511189681775\n",
      "Delay 800 ms: 24.470046061218568\n",
      "Delay 900 ms: 26.203329968221215\n",
      "Delay 1000 ms: 27.7915575898884\n",
      "\n",
      "MFE\n",
      "Average mfe: -0.0010110614285244494\n",
      "Delay 100 ms: -0.00021731096821095175\n",
      "Delay 200 ms: -0.00042324490495283156\n",
      "Delay 300 ms: -0.0006147355846724486\n",
      "Delay 400 ms: -0.0007934003383045296\n",
      "Delay 500 ms: -0.0009617359505465119\n",
      "Delay 600 ms: -0.001120057186776916\n",
      "Delay 700 ms: -0.0012696979146706417\n",
      "Delay 800 ms: -0.0014184695523330225\n",
      "Delay 900 ms: -0.0015692511570896796\n",
      "Delay 1000 ms: -0.001722710727686955\n"
     ]
    }
   ],
   "source": [
    "print(\"MAE\")\n",
    "print(\"Average mae:\", results_mae_val[0])\n",
    "for i, delay in enumerate(delays_list):\n",
    "    print(\"Delay\", delay, \"ms:\", results_mae_val[i+1])\n",
    "print()    \n",
    "print(\"RMSE\")\n",
    "print(\"Average rmse:\", results_rmse_val[0])\n",
    "for i, delay in enumerate(delays_list):\n",
    "    print(\"Delay\", delay, \"ms:\", results_rmse_val[i+1])\n",
    "print()    \n",
    "print(\"SMAPE\")\n",
    "print(\"Average smape:\", results_smape_val[0])\n",
    "for i, delay in enumerate(delays_list):\n",
    "    print(\"Delay\", delay, \"ms:\", results_smape_val[i+1])\n",
    "print()\n",
    "print(\"MFE\")\n",
    "print(\"Average mfe:\", results_mfe_val[0])\n",
    "for i, delay in enumerate(delays_list):\n",
    "    print(\"Delay\", delay, \"ms:\", results_mfe_val[i+1])"
   ]
  },
  {
   "cell_type": "code",
   "execution_count": null,
   "metadata": {},
   "outputs": [],
   "source": []
  }
 ],
 "metadata": {
  "kernelspec": {
   "display_name": "Python 3",
   "language": "python",
   "name": "python3"
  },
  "language_info": {
   "codemirror_mode": {
    "name": "ipython",
    "version": 3
   },
   "file_extension": ".py",
   "mimetype": "text/x-python",
   "name": "python",
   "nbconvert_exporter": "python",
   "pygments_lexer": "ipython3",
   "version": "3.5.2"
  }
 },
 "nbformat": 4,
 "nbformat_minor": 1
}
